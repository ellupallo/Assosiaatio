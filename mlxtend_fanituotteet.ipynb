{
 "cells": [
  {
   "cell_type": "code",
   "execution_count": 1,
   "metadata": {},
   "outputs": [],
   "source": [
    "import pandas as pd\n",
    "import numpy as np\n",
    "df = pd.read_csv(\"fanituotteet.csv\")\n",
    "\n",
    "from mlxtend.frequent_patterns import association_rules\n",
    "from mlxtend.frequent_patterns import apriori"
   ]
  },
  {
   "cell_type": "code",
   "execution_count": 2,
   "metadata": {},
   "outputs": [
    {
     "data": {
      "text/html": [
       "<div>\n",
       "<style scoped>\n",
       "    .dataframe tbody tr th:only-of-type {\n",
       "        vertical-align: middle;\n",
       "    }\n",
       "\n",
       "    .dataframe tbody tr th {\n",
       "        vertical-align: top;\n",
       "    }\n",
       "\n",
       "    .dataframe thead th {\n",
       "        text-align: right;\n",
       "    }\n",
       "</style>\n",
       "<table border=\"1\" class=\"dataframe\">\n",
       "  <thead>\n",
       "    <tr style=\"text-align: right;\">\n",
       "      <th></th>\n",
       "      <th>ID</th>\n",
       "      <th>MovieBoxes</th>\n",
       "      <th>TShirts</th>\n",
       "      <th>CollegeShirts</th>\n",
       "      <th>Caps</th>\n",
       "      <th>Hats</th>\n",
       "      <th>Mugs</th>\n",
       "      <th>Music</th>\n",
       "      <th>Posters</th>\n",
       "      <th>Books</th>\n",
       "      <th>...</th>\n",
       "      <th>PintsAndWhiskeyGlasses</th>\n",
       "      <th>ScaleModels</th>\n",
       "      <th>CollectorCards</th>\n",
       "      <th>BoardGames</th>\n",
       "      <th>FlagsAndStandards</th>\n",
       "      <th>Stickers</th>\n",
       "      <th>Toys</th>\n",
       "      <th>Sweets</th>\n",
       "      <th>FridgeMagnets</th>\n",
       "      <th>UnderwearAndSocks</th>\n",
       "    </tr>\n",
       "  </thead>\n",
       "  <tbody>\n",
       "    <tr>\n",
       "      <th>0</th>\n",
       "      <td>1</td>\n",
       "      <td>0</td>\n",
       "      <td>0</td>\n",
       "      <td>0</td>\n",
       "      <td>0</td>\n",
       "      <td>0</td>\n",
       "      <td>0</td>\n",
       "      <td>0</td>\n",
       "      <td>0</td>\n",
       "      <td>1</td>\n",
       "      <td>...</td>\n",
       "      <td>0</td>\n",
       "      <td>0</td>\n",
       "      <td>0</td>\n",
       "      <td>0</td>\n",
       "      <td>1</td>\n",
       "      <td>0</td>\n",
       "      <td>0</td>\n",
       "      <td>0</td>\n",
       "      <td>0</td>\n",
       "      <td>1</td>\n",
       "    </tr>\n",
       "    <tr>\n",
       "      <th>1</th>\n",
       "      <td>2</td>\n",
       "      <td>0</td>\n",
       "      <td>1</td>\n",
       "      <td>0</td>\n",
       "      <td>0</td>\n",
       "      <td>0</td>\n",
       "      <td>0</td>\n",
       "      <td>0</td>\n",
       "      <td>0</td>\n",
       "      <td>1</td>\n",
       "      <td>...</td>\n",
       "      <td>0</td>\n",
       "      <td>0</td>\n",
       "      <td>0</td>\n",
       "      <td>0</td>\n",
       "      <td>1</td>\n",
       "      <td>1</td>\n",
       "      <td>1</td>\n",
       "      <td>1</td>\n",
       "      <td>1</td>\n",
       "      <td>1</td>\n",
       "    </tr>\n",
       "    <tr>\n",
       "      <th>2</th>\n",
       "      <td>3</td>\n",
       "      <td>0</td>\n",
       "      <td>0</td>\n",
       "      <td>0</td>\n",
       "      <td>0</td>\n",
       "      <td>0</td>\n",
       "      <td>0</td>\n",
       "      <td>1</td>\n",
       "      <td>0</td>\n",
       "      <td>0</td>\n",
       "      <td>...</td>\n",
       "      <td>0</td>\n",
       "      <td>0</td>\n",
       "      <td>0</td>\n",
       "      <td>0</td>\n",
       "      <td>0</td>\n",
       "      <td>0</td>\n",
       "      <td>0</td>\n",
       "      <td>0</td>\n",
       "      <td>1</td>\n",
       "      <td>1</td>\n",
       "    </tr>\n",
       "    <tr>\n",
       "      <th>3</th>\n",
       "      <td>4</td>\n",
       "      <td>1</td>\n",
       "      <td>0</td>\n",
       "      <td>0</td>\n",
       "      <td>1</td>\n",
       "      <td>0</td>\n",
       "      <td>0</td>\n",
       "      <td>0</td>\n",
       "      <td>0</td>\n",
       "      <td>0</td>\n",
       "      <td>...</td>\n",
       "      <td>1</td>\n",
       "      <td>0</td>\n",
       "      <td>0</td>\n",
       "      <td>0</td>\n",
       "      <td>0</td>\n",
       "      <td>0</td>\n",
       "      <td>0</td>\n",
       "      <td>0</td>\n",
       "      <td>1</td>\n",
       "      <td>1</td>\n",
       "    </tr>\n",
       "    <tr>\n",
       "      <th>4</th>\n",
       "      <td>5</td>\n",
       "      <td>0</td>\n",
       "      <td>0</td>\n",
       "      <td>0</td>\n",
       "      <td>0</td>\n",
       "      <td>0</td>\n",
       "      <td>0</td>\n",
       "      <td>0</td>\n",
       "      <td>0</td>\n",
       "      <td>1</td>\n",
       "      <td>...</td>\n",
       "      <td>0</td>\n",
       "      <td>0</td>\n",
       "      <td>0</td>\n",
       "      <td>0</td>\n",
       "      <td>1</td>\n",
       "      <td>0</td>\n",
       "      <td>0</td>\n",
       "      <td>0</td>\n",
       "      <td>1</td>\n",
       "      <td>1</td>\n",
       "    </tr>\n",
       "  </tbody>\n",
       "</table>\n",
       "<p>5 rows × 21 columns</p>\n",
       "</div>"
      ],
      "text/plain": [
       "   ID  MovieBoxes  TShirts  CollegeShirts  Caps  Hats  Mugs  Music  Posters  \\\n",
       "0   1           0        0              0     0     0     0      0        0   \n",
       "1   2           0        1              0     0     0     0      0        0   \n",
       "2   3           0        0              0     0     0     0      1        0   \n",
       "3   4           1        0              0     1     0     0      0        0   \n",
       "4   5           0        0              0     0     0     0      0        0   \n",
       "\n",
       "   Books  ...  PintsAndWhiskeyGlasses  ScaleModels  CollectorCards  \\\n",
       "0      1  ...                       0            0               0   \n",
       "1      1  ...                       0            0               0   \n",
       "2      0  ...                       0            0               0   \n",
       "3      0  ...                       1            0               0   \n",
       "4      1  ...                       0            0               0   \n",
       "\n",
       "   BoardGames  FlagsAndStandards  Stickers  Toys  Sweets  FridgeMagnets  \\\n",
       "0           0                  1         0     0       0              0   \n",
       "1           0                  1         1     1       1              1   \n",
       "2           0                  0         0     0       0              1   \n",
       "3           0                  0         0     0       0              1   \n",
       "4           0                  1         0     0       0              1   \n",
       "\n",
       "   UnderwearAndSocks  \n",
       "0                  1  \n",
       "1                  1  \n",
       "2                  1  \n",
       "3                  1  \n",
       "4                  1  \n",
       "\n",
       "[5 rows x 21 columns]"
      ]
     },
     "execution_count": 2,
     "metadata": {},
     "output_type": "execute_result"
    }
   ],
   "source": [
    "df.head()"
   ]
  },
  {
   "cell_type": "code",
   "execution_count": 3,
   "metadata": {},
   "outputs": [
    {
     "data": {
      "text/plain": [
       "(100000, 21)"
      ]
     },
     "execution_count": 3,
     "metadata": {},
     "output_type": "execute_result"
    }
   ],
   "source": [
    "df.shape"
   ]
  },
  {
   "cell_type": "code",
   "execution_count": 4,
   "metadata": {},
   "outputs": [],
   "source": [
    "df = df.drop([\"ID\"], axis=1)"
   ]
  },
  {
   "cell_type": "code",
   "execution_count": 5,
   "metadata": {},
   "outputs": [
    {
     "data": {
      "text/plain": [
       "(100000, 20)"
      ]
     },
     "execution_count": 5,
     "metadata": {},
     "output_type": "execute_result"
    }
   ],
   "source": [
    "df.shape"
   ]
  },
  {
   "cell_type": "code",
   "execution_count": 6,
   "metadata": {},
   "outputs": [
    {
     "data": {
      "text/html": [
       "<div>\n",
       "<style scoped>\n",
       "    .dataframe tbody tr th:only-of-type {\n",
       "        vertical-align: middle;\n",
       "    }\n",
       "\n",
       "    .dataframe tbody tr th {\n",
       "        vertical-align: top;\n",
       "    }\n",
       "\n",
       "    .dataframe thead th {\n",
       "        text-align: right;\n",
       "    }\n",
       "</style>\n",
       "<table border=\"1\" class=\"dataframe\">\n",
       "  <thead>\n",
       "    <tr style=\"text-align: right;\">\n",
       "      <th></th>\n",
       "      <th>MovieBoxes</th>\n",
       "      <th>TShirts</th>\n",
       "      <th>CollegeShirts</th>\n",
       "      <th>Caps</th>\n",
       "      <th>Hats</th>\n",
       "      <th>Mugs</th>\n",
       "      <th>Music</th>\n",
       "      <th>Posters</th>\n",
       "      <th>Books</th>\n",
       "      <th>Scarves</th>\n",
       "      <th>PintsAndWhiskeyGlasses</th>\n",
       "      <th>ScaleModels</th>\n",
       "      <th>CollectorCards</th>\n",
       "      <th>BoardGames</th>\n",
       "      <th>FlagsAndStandards</th>\n",
       "      <th>Stickers</th>\n",
       "      <th>Toys</th>\n",
       "      <th>Sweets</th>\n",
       "      <th>FridgeMagnets</th>\n",
       "      <th>UnderwearAndSocks</th>\n",
       "    </tr>\n",
       "  </thead>\n",
       "  <tbody>\n",
       "    <tr>\n",
       "      <th>0</th>\n",
       "      <td>False</td>\n",
       "      <td>False</td>\n",
       "      <td>False</td>\n",
       "      <td>False</td>\n",
       "      <td>False</td>\n",
       "      <td>False</td>\n",
       "      <td>False</td>\n",
       "      <td>False</td>\n",
       "      <td>True</td>\n",
       "      <td>False</td>\n",
       "      <td>False</td>\n",
       "      <td>False</td>\n",
       "      <td>False</td>\n",
       "      <td>False</td>\n",
       "      <td>True</td>\n",
       "      <td>False</td>\n",
       "      <td>False</td>\n",
       "      <td>False</td>\n",
       "      <td>False</td>\n",
       "      <td>True</td>\n",
       "    </tr>\n",
       "    <tr>\n",
       "      <th>1</th>\n",
       "      <td>False</td>\n",
       "      <td>True</td>\n",
       "      <td>False</td>\n",
       "      <td>False</td>\n",
       "      <td>False</td>\n",
       "      <td>False</td>\n",
       "      <td>False</td>\n",
       "      <td>False</td>\n",
       "      <td>True</td>\n",
       "      <td>False</td>\n",
       "      <td>False</td>\n",
       "      <td>False</td>\n",
       "      <td>False</td>\n",
       "      <td>False</td>\n",
       "      <td>True</td>\n",
       "      <td>True</td>\n",
       "      <td>True</td>\n",
       "      <td>True</td>\n",
       "      <td>True</td>\n",
       "      <td>True</td>\n",
       "    </tr>\n",
       "    <tr>\n",
       "      <th>2</th>\n",
       "      <td>False</td>\n",
       "      <td>False</td>\n",
       "      <td>False</td>\n",
       "      <td>False</td>\n",
       "      <td>False</td>\n",
       "      <td>False</td>\n",
       "      <td>True</td>\n",
       "      <td>False</td>\n",
       "      <td>False</td>\n",
       "      <td>False</td>\n",
       "      <td>False</td>\n",
       "      <td>False</td>\n",
       "      <td>False</td>\n",
       "      <td>False</td>\n",
       "      <td>False</td>\n",
       "      <td>False</td>\n",
       "      <td>False</td>\n",
       "      <td>False</td>\n",
       "      <td>True</td>\n",
       "      <td>True</td>\n",
       "    </tr>\n",
       "    <tr>\n",
       "      <th>3</th>\n",
       "      <td>True</td>\n",
       "      <td>False</td>\n",
       "      <td>False</td>\n",
       "      <td>True</td>\n",
       "      <td>False</td>\n",
       "      <td>False</td>\n",
       "      <td>False</td>\n",
       "      <td>False</td>\n",
       "      <td>False</td>\n",
       "      <td>False</td>\n",
       "      <td>True</td>\n",
       "      <td>False</td>\n",
       "      <td>False</td>\n",
       "      <td>False</td>\n",
       "      <td>False</td>\n",
       "      <td>False</td>\n",
       "      <td>False</td>\n",
       "      <td>False</td>\n",
       "      <td>True</td>\n",
       "      <td>True</td>\n",
       "    </tr>\n",
       "    <tr>\n",
       "      <th>4</th>\n",
       "      <td>False</td>\n",
       "      <td>False</td>\n",
       "      <td>False</td>\n",
       "      <td>False</td>\n",
       "      <td>False</td>\n",
       "      <td>False</td>\n",
       "      <td>False</td>\n",
       "      <td>False</td>\n",
       "      <td>True</td>\n",
       "      <td>False</td>\n",
       "      <td>False</td>\n",
       "      <td>False</td>\n",
       "      <td>False</td>\n",
       "      <td>False</td>\n",
       "      <td>True</td>\n",
       "      <td>False</td>\n",
       "      <td>False</td>\n",
       "      <td>False</td>\n",
       "      <td>True</td>\n",
       "      <td>True</td>\n",
       "    </tr>\n",
       "  </tbody>\n",
       "</table>\n",
       "</div>"
      ],
      "text/plain": [
       "   MovieBoxes  TShirts  CollegeShirts   Caps   Hats   Mugs  Music  Posters  \\\n",
       "0       False    False          False  False  False  False  False    False   \n",
       "1       False     True          False  False  False  False  False    False   \n",
       "2       False    False          False  False  False  False   True    False   \n",
       "3        True    False          False   True  False  False  False    False   \n",
       "4       False    False          False  False  False  False  False    False   \n",
       "\n",
       "   Books  Scarves  PintsAndWhiskeyGlasses  ScaleModels  CollectorCards  \\\n",
       "0   True    False                   False        False           False   \n",
       "1   True    False                   False        False           False   \n",
       "2  False    False                   False        False           False   \n",
       "3  False    False                    True        False           False   \n",
       "4   True    False                   False        False           False   \n",
       "\n",
       "   BoardGames  FlagsAndStandards  Stickers   Toys  Sweets  FridgeMagnets  \\\n",
       "0       False               True     False  False   False          False   \n",
       "1       False               True      True   True    True           True   \n",
       "2       False              False     False  False   False           True   \n",
       "3       False              False     False  False   False           True   \n",
       "4       False               True     False  False   False           True   \n",
       "\n",
       "   UnderwearAndSocks  \n",
       "0               True  \n",
       "1               True  \n",
       "2               True  \n",
       "3               True  \n",
       "4               True  "
      ]
     },
     "execution_count": 6,
     "metadata": {},
     "output_type": "execute_result"
    }
   ],
   "source": [
    "df_bool = df.astype(bool)\n",
    "df_bool.head()"
   ]
  },
  {
   "cell_type": "code",
   "execution_count": 7,
   "metadata": {},
   "outputs": [
    {
     "data": {
      "text/plain": [
       "FridgeMagnets             20626\n",
       "Books                     19853\n",
       "Posters                   16179\n",
       "ScaleModels               15971\n",
       "UnderwearAndSocks         14798\n",
       "BoardGames                14557\n",
       "Music                     13499\n",
       "Stickers                  13100\n",
       "TShirts                   13098\n",
       "Sweets                    12166\n",
       "FlagsAndStandards         11880\n",
       "MovieBoxes                10998\n",
       "PintsAndWhiskeyGlasses    10848\n",
       "Hats                      10459\n",
       "Scarves                    9336\n",
       "Toys                       5618\n",
       "Caps                       3585\n",
       "CollegeShirts              3271\n",
       "Mugs                       2952\n",
       "CollectorCards             1339\n",
       "dtype: int64"
      ]
     },
     "execution_count": 7,
     "metadata": {},
     "output_type": "execute_result"
    }
   ],
   "source": [
    "# colnames= df.columns\n",
    "# summat = df[colnames].sum()\n",
    "# summat.sort_values(ascending=False)\n",
    "\n",
    "summat = df_bool[df_bool.columns].sum()\n",
    "summat.sort_values(ascending=False)"
   ]
  },
  {
   "cell_type": "code",
   "execution_count": 8,
   "metadata": {},
   "outputs": [
    {
     "data": {
      "text/plain": [
       "<Axes: >"
      ]
     },
     "execution_count": 8,
     "metadata": {},
     "output_type": "execute_result"
    },
    {
     "data": {
      "image/png": "[encoded data removed]",
      "text/plain": [
       "<Figure size 640x480 with 1 Axes>"
      ]
     },
     "metadata": {},
     "output_type": "display_data"
    }
   ],
   "source": [
    "df_bool.mean().sort_values(ascending=False).plot(kind=\"bar\")"
   ]
  },
  {
   "cell_type": "markdown",
   "metadata": {},
   "source": [
    "### Eka versio mallista"
   ]
  },
  {
   "cell_type": "code",
   "execution_count": 9,
   "metadata": {},
   "outputs": [],
   "source": [
    "#Compute items that sell at minimum in 0.001% of all orders placed in the month (min_support)\n",
    "# frequent_itemsets = apriori(df_bool, min_support = 0.00000001,max_len = 2, use_colnames = True)\n",
    "frequent_itemsets = apriori(df_bool, min_support = 0.1,max_len = 2, use_colnames = True)\n"
   ]
  },
  {
   "cell_type": "code",
   "execution_count": 10,
   "metadata": {},
   "outputs": [
    {
     "name": "stdout",
     "output_type": "stream",
     "text": [
      "   support      itemsets\n",
      "0  0.10998  (MovieBoxes)\n",
      "1  0.13098     (TShirts)\n",
      "2  0.10459        (Hats)\n",
      "3  0.13499       (Music)\n",
      "4  0.16179     (Posters)\n"
     ]
    }
   ],
   "source": [
    "print(frequent_itemsets.head())"
   ]
  },
  {
   "cell_type": "code",
   "execution_count": 11,
   "metadata": {},
   "outputs": [
    {
     "name": "stdout",
     "output_type": "stream",
     "text": [
      "0.23.3\n"
     ]
    }
   ],
   "source": [
    "import mlxtend\n",
    "print(mlxtend.__version__)"
   ]
  },
  {
   "cell_type": "code",
   "execution_count": 12,
   "metadata": {},
   "outputs": [],
   "source": [
    "#Compute pairs of orders that have a meaningful lift of more than 1 in their sales when marketed together\n",
    "frequent_itemsets_rules = association_rules(frequent_itemsets,metric = \"lift\", min_threshold = 1.0, num_itemsets=2)"
   ]
  },
  {
   "cell_type": "code",
   "execution_count": 13,
   "metadata": {},
   "outputs": [
    {
     "data": {
      "text/html": [
       "<div>\n",
       "<style scoped>\n",
       "    .dataframe tbody tr th:only-of-type {\n",
       "        vertical-align: middle;\n",
       "    }\n",
       "\n",
       "    .dataframe tbody tr th {\n",
       "        vertical-align: top;\n",
       "    }\n",
       "\n",
       "    .dataframe thead th {\n",
       "        text-align: right;\n",
       "    }\n",
       "</style>\n",
       "<table border=\"1\" class=\"dataframe\">\n",
       "  <thead>\n",
       "    <tr style=\"text-align: right;\">\n",
       "      <th></th>\n",
       "      <th>antecedents</th>\n",
       "      <th>consequents</th>\n",
       "      <th>antecedent support</th>\n",
       "      <th>consequent support</th>\n",
       "      <th>support</th>\n",
       "      <th>confidence</th>\n",
       "      <th>lift</th>\n",
       "      <th>representativity</th>\n",
       "      <th>leverage</th>\n",
       "      <th>conviction</th>\n",
       "      <th>zhangs_metric</th>\n",
       "      <th>jaccard</th>\n",
       "      <th>certainty</th>\n",
       "      <th>kulczynski</th>\n",
       "    </tr>\n",
       "  </thead>\n",
       "  <tbody>\n",
       "    <tr>\n",
       "      <th>0</th>\n",
       "      <td>(FlagsAndStandards)</td>\n",
       "      <td>(Books)</td>\n",
       "      <td>0.11880</td>\n",
       "      <td>0.19853</td>\n",
       "      <td>0.11145</td>\n",
       "      <td>0.938131</td>\n",
       "      <td>4.725388</td>\n",
       "      <td>1.0</td>\n",
       "      <td>0.087865</td>\n",
       "      <td>12.954372</td>\n",
       "      <td>0.894663</td>\n",
       "      <td>0.541335</td>\n",
       "      <td>0.922806</td>\n",
       "      <td>0.749754</td>\n",
       "    </tr>\n",
       "    <tr>\n",
       "      <th>1</th>\n",
       "      <td>(Books)</td>\n",
       "      <td>(FlagsAndStandards)</td>\n",
       "      <td>0.19853</td>\n",
       "      <td>0.11880</td>\n",
       "      <td>0.11145</td>\n",
       "      <td>0.561376</td>\n",
       "      <td>4.725388</td>\n",
       "      <td>1.0</td>\n",
       "      <td>0.087865</td>\n",
       "      <td>2.009011</td>\n",
       "      <td>0.983664</td>\n",
       "      <td>0.541335</td>\n",
       "      <td>0.502243</td>\n",
       "      <td>0.749754</td>\n",
       "    </tr>\n",
       "    <tr>\n",
       "      <th>2</th>\n",
       "      <td>(FridgeMagnets)</td>\n",
       "      <td>(UnderwearAndSocks)</td>\n",
       "      <td>0.20626</td>\n",
       "      <td>0.14798</td>\n",
       "      <td>0.13476</td>\n",
       "      <td>0.653350</td>\n",
       "      <td>4.415125</td>\n",
       "      <td>1.0</td>\n",
       "      <td>0.104238</td>\n",
       "      <td>2.457869</td>\n",
       "      <td>0.974508</td>\n",
       "      <td>0.613997</td>\n",
       "      <td>0.593144</td>\n",
       "      <td>0.782007</td>\n",
       "    </tr>\n",
       "    <tr>\n",
       "      <th>3</th>\n",
       "      <td>(UnderwearAndSocks)</td>\n",
       "      <td>(FridgeMagnets)</td>\n",
       "      <td>0.14798</td>\n",
       "      <td>0.20626</td>\n",
       "      <td>0.13476</td>\n",
       "      <td>0.910664</td>\n",
       "      <td>4.415125</td>\n",
       "      <td>1.0</td>\n",
       "      <td>0.104238</td>\n",
       "      <td>8.884845</td>\n",
       "      <td>0.907849</td>\n",
       "      <td>0.613997</td>\n",
       "      <td>0.887449</td>\n",
       "      <td>0.782007</td>\n",
       "    </tr>\n",
       "  </tbody>\n",
       "</table>\n",
       "</div>"
      ],
      "text/plain": [
       "           antecedents          consequents  antecedent support  \\\n",
       "0  (FlagsAndStandards)              (Books)             0.11880   \n",
       "1              (Books)  (FlagsAndStandards)             0.19853   \n",
       "2      (FridgeMagnets)  (UnderwearAndSocks)             0.20626   \n",
       "3  (UnderwearAndSocks)      (FridgeMagnets)             0.14798   \n",
       "\n",
       "   consequent support  support  confidence      lift  representativity  \\\n",
       "0             0.19853  0.11145    0.938131  4.725388               1.0   \n",
       "1             0.11880  0.11145    0.561376  4.725388               1.0   \n",
       "2             0.14798  0.13476    0.653350  4.415125               1.0   \n",
       "3             0.20626  0.13476    0.910664  4.415125               1.0   \n",
       "\n",
       "   leverage  conviction  zhangs_metric   jaccard  certainty  kulczynski  \n",
       "0  0.087865   12.954372       0.894663  0.541335   0.922806    0.749754  \n",
       "1  0.087865    2.009011       0.983664  0.541335   0.502243    0.749754  \n",
       "2  0.104238    2.457869       0.974508  0.613997   0.593144    0.782007  \n",
       "3  0.104238    8.884845       0.907849  0.613997   0.887449    0.782007  "
      ]
     },
     "execution_count": 13,
     "metadata": {},
     "output_type": "execute_result"
    }
   ],
   "source": [
    "frequent_itemsets_rules"
   ]
  },
  {
   "cell_type": "code",
   "execution_count": 14,
   "metadata": {},
   "outputs": [
    {
     "data": {
      "text/plain": [
       "Index(['antecedents', 'consequents', 'antecedent support',\n",
       "       'consequent support', 'support', 'confidence', 'lift',\n",
       "       'representativity', 'leverage', 'conviction', 'zhangs_metric',\n",
       "       'jaccard', 'certainty', 'kulczynski'],\n",
       "      dtype='object')"
      ]
     },
     "execution_count": 14,
     "metadata": {},
     "output_type": "execute_result"
    }
   ],
   "source": [
    "frequent_itemsets_rules.columns"
   ]
  },
  {
   "cell_type": "code",
   "execution_count": null,
   "metadata": {},
   "outputs": [],
   "source": []
  },
  {
   "cell_type": "code",
   "execution_count": 15,
   "metadata": {},
   "outputs": [
    {
     "name": "stdout",
     "output_type": "stream",
     "text": [
      "        antecedents         consequents  antecedent support  consequent support  support  confidence     lift  representativity  leverage  conviction  zhangs_metric  jaccard  certainty  kulczynski\n",
      "(FlagsAndStandards)             (Books)             0.11880             0.19853  0.11145    0.938131 4.725388               1.0  0.087865   12.954372       0.894663 0.541335   0.922806    0.749754\n",
      "            (Books) (FlagsAndStandards)             0.19853             0.11880  0.11145    0.561376 4.725388               1.0  0.087865    2.009011       0.983664 0.541335   0.502243    0.749754\n",
      "    (FridgeMagnets) (UnderwearAndSocks)             0.20626             0.14798  0.13476    0.653350 4.415125               1.0  0.104238    2.457869       0.974508 0.613997   0.593144    0.782007\n",
      "(UnderwearAndSocks)     (FridgeMagnets)             0.14798             0.20626  0.13476    0.910664 4.415125               1.0  0.104238    8.884845       0.907849 0.613997   0.887449    0.782007\n"
     ]
    }
   ],
   "source": [
    "# Sort the DataFrame by the 'lift' column in descending order\n",
    "sorted_rules = frequent_itemsets_rules.sort_values(by='lift', ascending=False)\n",
    "\n",
    "# Display the sorted DataFrame\n",
    "# print(sorted_rules)\n",
    "print(sorted_rules.to_string(index=False))"
   ]
  },
  {
   "cell_type": "markdown",
   "metadata": {},
   "source": [
    "### Toka versio mallista"
   ]
  },
  {
   "cell_type": "code",
   "execution_count": 16,
   "metadata": {},
   "outputs": [
    {
     "name": "stdout",
     "output_type": "stream",
     "text": [
      "           antecedents      consequents  antecedent support  \\\n",
      "0  (FlagsAndStandards)          (Books)             0.11880   \n",
      "1  (UnderwearAndSocks)  (FridgeMagnets)             0.14798   \n",
      "\n",
      "   consequent support  support  confidence      lift  representativity  \\\n",
      "0             0.19853  0.11145    0.938131  4.725388               1.0   \n",
      "1             0.20626  0.13476    0.910664  4.415125               1.0   \n",
      "\n",
      "   leverage  conviction  zhangs_metric   jaccard  certainty  kulczynski  \n",
      "0  0.087865   12.954372       0.894663  0.541335   0.922806    0.749754  \n",
      "1  0.104238    8.884845       0.907849  0.613997   0.887449    0.782007  \n"
     ]
    }
   ],
   "source": [
    "# Step 1: Generate frequent itemsets with minimum support\n",
    "\n",
    "frequent_itemsets2= apriori(df_bool, min_support=0.1, use_colnames=True) # Yleisesti high support >= 0.5, niche support < 0.5 (market basket aluksi esim. 0.1)\n",
    "\n",
    "# Step 2: Generate rules with minimum confidence\n",
    "rules = association_rules(frequent_itemsets2, metric=\"confidence\", min_threshold=0.7, num_itemsets=2) # high confidence >= 0.7, low 0.3-0.6  (Yleensä aloitus 0.7)\n",
    "\n",
    "# Step 3: Filter rules by lift\n",
    "rules = rules[rules['lift'] > 1] #  yleiset rajat: lift >= 1.2, meaningful, lift >= strong relationship \n",
    "# Lift >= 1 - positive association\n",
    "# Lift = 1 no associaton\n",
    "# Lift < 1 negattive association\n",
    "\n",
    "print(rules)\n",
    "\n"
   ]
  },
  {
   "cell_type": "code",
   "execution_count": 17,
   "metadata": {},
   "outputs": [
    {
     "name": "stdout",
     "output_type": "stream",
     "text": [
      "        antecedents         consequents  antecedent support  consequent support  support  confidence     lift  representativity  leverage  conviction  zhangs_metric  jaccard  certainty  kulczynski\n",
      "(FlagsAndStandards)             (Books)             0.11880             0.19853  0.11145    0.938131 4.725388               1.0  0.087865   12.954372       0.894663 0.541335   0.922806    0.749754\n",
      "            (Books) (FlagsAndStandards)             0.19853             0.11880  0.11145    0.561376 4.725388               1.0  0.087865    2.009011       0.983664 0.541335   0.502243    0.749754\n",
      "    (FridgeMagnets) (UnderwearAndSocks)             0.20626             0.14798  0.13476    0.653350 4.415125               1.0  0.104238    2.457869       0.974508 0.613997   0.593144    0.782007\n",
      "(UnderwearAndSocks)     (FridgeMagnets)             0.14798             0.20626  0.13476    0.910664 4.415125               1.0  0.104238    8.884845       0.907849 0.613997   0.887449    0.782007\n"
     ]
    }
   ],
   "source": [
    "# Sort the DataFrame by the 'lift' column in descending order\n",
    "sorted_rules2 = rules.sort_values(by='lift', ascending=False)\n",
    "\n",
    "# Display the sorted DataFrame\n",
    "# print(sorted_rules)\n",
    "print(sorted_rules.to_string(index=False))"
   ]
  }
 ],
 "metadata": {
  "kernelspec": {
   "display_name": "env",
   "language": "python",
   "name": "python3"
  },
  "language_info": {
   "codemirror_mode": {
    "name": "ipython",
    "version": 3
   },
   "file_extension": ".py",
   "mimetype": "text/x-python",
   "name": "python",
   "nbconvert_exporter": "python",
   "pygments_lexer": "ipython3",
   "version": "3.12.7"
  }
 },
 "nbformat": 4,
 "nbformat_minor": 2
}

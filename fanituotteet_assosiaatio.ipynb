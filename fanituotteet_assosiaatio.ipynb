{
 "cells": [
  {
   "cell_type": "code",
   "execution_count": 1,
   "metadata": {},
   "outputs": [
    {
     "ename": "ModuleNotFoundError",
     "evalue": "No module named 'pandas'",
     "output_type": "error",
     "traceback": [
      "\u001b[1;31m---------------------------------------------------------------------------\u001b[0m",
      "\u001b[1;31mModuleNotFoundError\u001b[0m                       Traceback (most recent call last)",
      "Cell \u001b[1;32mIn[1], line 2\u001b[0m\n\u001b[0;32m      1\u001b[0m \u001b[38;5;28;01mimport\u001b[39;00m \u001b[38;5;21;01mnumpy\u001b[39;00m \u001b[38;5;28;01mas\u001b[39;00m \u001b[38;5;21;01mnp\u001b[39;00m\n\u001b[1;32m----> 2\u001b[0m \u001b[38;5;28;01mimport\u001b[39;00m \u001b[38;5;21;01mpandas\u001b[39;00m \u001b[38;5;28;01mas\u001b[39;00m \u001b[38;5;21;01mpd\u001b[39;00m\n\u001b[0;32m      3\u001b[0m \u001b[38;5;28;01mfrom\u001b[39;00m \u001b[38;5;21;01mapyori\u001b[39;00m \u001b[38;5;28;01mimport\u001b[39;00m apriori\n\u001b[0;32m      4\u001b[0m \u001b[38;5;28;01mfrom\u001b[39;00m \u001b[38;5;21;01mmlxtend\u001b[39;00m\u001b[38;5;21;01m.\u001b[39;00m\u001b[38;5;21;01mfrequent_patterns\u001b[39;00m \u001b[38;5;28;01mimport\u001b[39;00m apriori, association_rules\n",
      "\u001b[1;31mModuleNotFoundError\u001b[0m: No module named 'pandas'"
     ]
    }
   ],
   "source": [
    "import numpy as np\n",
    "import pandas as pd\n",
    "from apyori import apriori\n",
    "from mlxtend.frequent_patterns import apriori, association_rules"
   ]
  },
  {
   "cell_type": "code",
   "execution_count": null,
   "metadata": {},
   "outputs": [
    {
     "data": {
      "text/html": [
       "<div>\n",
       "<style scoped>\n",
       "    .dataframe tbody tr th:only-of-type {\n",
       "        vertical-align: middle;\n",
       "    }\n",
       "\n",
       "    .dataframe tbody tr th {\n",
       "        vertical-align: top;\n",
       "    }\n",
       "\n",
       "    .dataframe thead th {\n",
       "        text-align: right;\n",
       "    }\n",
       "</style>\n",
       "<table border=\"1\" class=\"dataframe\">\n",
       "  <thead>\n",
       "    <tr style=\"text-align: right;\">\n",
       "      <th></th>\n",
       "      <th>ID</th>\n",
       "      <th>MovieBoxes</th>\n",
       "      <th>TShirts</th>\n",
       "      <th>CollegeShirts</th>\n",
       "      <th>Caps</th>\n",
       "      <th>Hats</th>\n",
       "      <th>Mugs</th>\n",
       "      <th>Music</th>\n",
       "      <th>Posters</th>\n",
       "      <th>Books</th>\n",
       "      <th>...</th>\n",
       "      <th>PintsAndWhiskeyGlasses</th>\n",
       "      <th>ScaleModels</th>\n",
       "      <th>CollectorCards</th>\n",
       "      <th>BoardGames</th>\n",
       "      <th>FlagsAndStandards</th>\n",
       "      <th>Stickers</th>\n",
       "      <th>Toys</th>\n",
       "      <th>Sweets</th>\n",
       "      <th>FridgeMagnets</th>\n",
       "      <th>UnderwearAndSocks</th>\n",
       "    </tr>\n",
       "  </thead>\n",
       "  <tbody>\n",
       "    <tr>\n",
       "      <th>0</th>\n",
       "      <td>1</td>\n",
       "      <td>0</td>\n",
       "      <td>0</td>\n",
       "      <td>0</td>\n",
       "      <td>0</td>\n",
       "      <td>0</td>\n",
       "      <td>0</td>\n",
       "      <td>0</td>\n",
       "      <td>0</td>\n",
       "      <td>1</td>\n",
       "      <td>...</td>\n",
       "      <td>0</td>\n",
       "      <td>0</td>\n",
       "      <td>0</td>\n",
       "      <td>0</td>\n",
       "      <td>1</td>\n",
       "      <td>0</td>\n",
       "      <td>0</td>\n",
       "      <td>0</td>\n",
       "      <td>0</td>\n",
       "      <td>1</td>\n",
       "    </tr>\n",
       "    <tr>\n",
       "      <th>1</th>\n",
       "      <td>2</td>\n",
       "      <td>0</td>\n",
       "      <td>1</td>\n",
       "      <td>0</td>\n",
       "      <td>0</td>\n",
       "      <td>0</td>\n",
       "      <td>0</td>\n",
       "      <td>0</td>\n",
       "      <td>0</td>\n",
       "      <td>1</td>\n",
       "      <td>...</td>\n",
       "      <td>0</td>\n",
       "      <td>0</td>\n",
       "      <td>0</td>\n",
       "      <td>0</td>\n",
       "      <td>1</td>\n",
       "      <td>1</td>\n",
       "      <td>1</td>\n",
       "      <td>1</td>\n",
       "      <td>1</td>\n",
       "      <td>1</td>\n",
       "    </tr>\n",
       "    <tr>\n",
       "      <th>2</th>\n",
       "      <td>3</td>\n",
       "      <td>0</td>\n",
       "      <td>0</td>\n",
       "      <td>0</td>\n",
       "      <td>0</td>\n",
       "      <td>0</td>\n",
       "      <td>0</td>\n",
       "      <td>1</td>\n",
       "      <td>0</td>\n",
       "      <td>0</td>\n",
       "      <td>...</td>\n",
       "      <td>0</td>\n",
       "      <td>0</td>\n",
       "      <td>0</td>\n",
       "      <td>0</td>\n",
       "      <td>0</td>\n",
       "      <td>0</td>\n",
       "      <td>0</td>\n",
       "      <td>0</td>\n",
       "      <td>1</td>\n",
       "      <td>1</td>\n",
       "    </tr>\n",
       "  </tbody>\n",
       "</table>\n",
       "<p>3 rows × 21 columns</p>\n",
       "</div>"
      ],
      "text/plain": [
       "   ID  MovieBoxes  TShirts  CollegeShirts  Caps  Hats  Mugs  Music  Posters  \\\n",
       "0   1           0        0              0     0     0     0      0        0   \n",
       "1   2           0        1              0     0     0     0      0        0   \n",
       "2   3           0        0              0     0     0     0      1        0   \n",
       "\n",
       "   Books  ...  PintsAndWhiskeyGlasses  ScaleModels  CollectorCards  \\\n",
       "0      1  ...                       0            0               0   \n",
       "1      1  ...                       0            0               0   \n",
       "2      0  ...                       0            0               0   \n",
       "\n",
       "   BoardGames  FlagsAndStandards  Stickers  Toys  Sweets  FridgeMagnets  \\\n",
       "0           0                  1         0     0       0              0   \n",
       "1           0                  1         1     1       1              1   \n",
       "2           0                  0         0     0       0              1   \n",
       "\n",
       "   UnderwearAndSocks  \n",
       "0                  1  \n",
       "1                  1  \n",
       "2                  1  \n",
       "\n",
       "[3 rows x 21 columns]"
      ]
     },
     "execution_count": 14,
     "metadata": {},
     "output_type": "execute_result"
    }
   ],
   "source": [
    "df = pd.read_csv(\"fanituotteet.csv\")\n",
    "df.head(3)"
   ]
  },
  {
   "cell_type": "code",
   "execution_count": null,
   "metadata": {},
   "outputs": [
    {
     "data": {
      "text/plain": [
       "(100000, 21)"
      ]
     },
     "execution_count": 15,
     "metadata": {},
     "output_type": "execute_result"
    }
   ],
   "source": [
    "df.shape"
   ]
  },
  {
   "cell_type": "code",
   "execution_count": null,
   "metadata": {},
   "outputs": [
    {
     "data": {
      "text/plain": [
       "ID                        int64\n",
       "MovieBoxes                int64\n",
       "TShirts                   int64\n",
       "CollegeShirts             int64\n",
       "Caps                      int64\n",
       "Hats                      int64\n",
       "Mugs                      int64\n",
       "Music                     int64\n",
       "Posters                   int64\n",
       "Books                     int64\n",
       "Scarves                   int64\n",
       "PintsAndWhiskeyGlasses    int64\n",
       "ScaleModels               int64\n",
       "CollectorCards            int64\n",
       "BoardGames                int64\n",
       "FlagsAndStandards         int64\n",
       "Stickers                  int64\n",
       "Toys                      int64\n",
       "Sweets                    int64\n",
       "FridgeMagnets             int64\n",
       "UnderwearAndSocks         int64\n",
       "dtype: object"
      ]
     },
     "execution_count": 16,
     "metadata": {},
     "output_type": "execute_result"
    }
   ],
   "source": [
    "df.dtypes"
   ]
  },
  {
   "cell_type": "code",
   "execution_count": null,
   "metadata": {},
   "outputs": [
    {
     "name": "stdout",
     "output_type": "stream",
     "text": [
      "ID                        5000050000\n",
      "MovieBoxes                     10998\n",
      "TShirts                        13098\n",
      "CollegeShirts                   3271\n",
      "Caps                            3585\n",
      "Hats                           10459\n",
      "Mugs                            2952\n",
      "Music                          13499\n",
      "Posters                        16179\n",
      "Books                          19853\n",
      "Scarves                         9336\n",
      "PintsAndWhiskeyGlasses         10848\n",
      "ScaleModels                    15971\n",
      "CollectorCards                  1339\n",
      "BoardGames                     14557\n",
      "FlagsAndStandards              11880\n",
      "Stickers                       13100\n",
      "Toys                            5618\n",
      "Sweets                         12166\n",
      "FridgeMagnets                  20626\n",
      "UnderwearAndSocks              14798\n",
      "dtype: int64\n"
     ]
    }
   ],
   "source": [
    "column_sums = df.sum()\n",
    "print(column_sums)"
   ]
  },
  {
   "cell_type": "code",
   "execution_count": null,
   "metadata": {},
   "outputs": [
    {
     "name": "stdout",
     "output_type": "stream",
     "text": [
      "ID                        5000050000\n",
      "FridgeMagnets                  20626\n",
      "Books                          19853\n",
      "Posters                        16179\n",
      "ScaleModels                    15971\n",
      "UnderwearAndSocks              14798\n",
      "BoardGames                     14557\n",
      "Music                          13499\n",
      "Stickers                       13100\n",
      "TShirts                        13098\n",
      "Sweets                         12166\n",
      "FlagsAndStandards              11880\n",
      "MovieBoxes                     10998\n",
      "PintsAndWhiskeyGlasses         10848\n",
      "Hats                           10459\n",
      "Scarves                         9336\n",
      "Toys                            5618\n",
      "Caps                            3585\n",
      "CollegeShirts                   3271\n",
      "Mugs                            2952\n",
      "CollectorCards                  1339\n",
      "dtype: int64\n"
     ]
    }
   ],
   "source": [
    "sorted_sums_desc = column_sums.sort_values(ascending=False)\n",
    "print(sorted_sums_desc)"
   ]
  },
  {
   "cell_type": "code",
   "execution_count": null,
   "metadata": {},
   "outputs": [
    {
     "data": {
      "text/plain": [
       "Index(['ID', 'MovieBoxes', 'TShirts', 'CollegeShirts', 'Caps', 'Hats', 'Mugs',\n",
       "       'Music', 'Posters', 'Books', 'Scarves', 'PintsAndWhiskeyGlasses',\n",
       "       'ScaleModels', 'CollectorCards', 'BoardGames', 'FlagsAndStandards',\n",
       "       'Stickers', 'Toys', 'Sweets', 'FridgeMagnets', 'UnderwearAndSocks'],\n",
       "      dtype='object')"
      ]
     },
     "execution_count": 19,
     "metadata": {},
     "output_type": "execute_result"
    }
   ],
   "source": [
    "colnames = df.columns\n",
    "colnames"
   ]
  },
  {
   "cell_type": "code",
   "execution_count": null,
   "metadata": {},
   "outputs": [
    {
     "name": "stdout",
     "output_type": "stream",
     "text": [
      "[['Books', 'FlagsAndStandards', 'UnderwearAndSocks'], ['TShirts', 'Books', 'FlagsAndStandards', 'Stickers', 'Toys', 'Sweets', 'FridgeMagnets', 'UnderwearAndSocks'], ['Music', 'FridgeMagnets', 'UnderwearAndSocks'], ['MovieBoxes', 'Caps', 'PintsAndWhiskeyGlasses', 'FridgeMagnets', 'UnderwearAndSocks'], ['Books', 'FlagsAndStandards', 'FridgeMagnets', 'UnderwearAndSocks'], ['TShirts', 'Music', 'PintsAndWhiskeyGlasses'], ['Sweets', 'FridgeMagnets', 'UnderwearAndSocks'], ['Posters', 'Stickers'], [], []]\n"
     ]
    }
   ],
   "source": [
    "# transactions = [] # luuppi, joka tekee listoja listojen sisälle\n",
    "# for i in range(0, df.shape[0]): # kaikki rivit\n",
    "#     transact = [] # luodaan yksi tapahtuma eli yksi kuittirivi\n",
    "#     for j in range(1, df.shape[1]):\n",
    "#         if df.values[i,j]==1: # ei id saraketta mukaan ja vain value 1 mukaan\n",
    "#             transact.append(colnames[j]) # yksittäiset tapahtumat\n",
    "#         if len(transact) > 0:\n",
    "#             transactions.append(transact)\n",
    "#             # print(transactions)\n",
    "# transactions\n",
    "# print(transactions[0:10])   \n",
    "\n",
    " # Järjestä tapahtumat\n",
    "transctions = []\n",
    "for i in range(0, df.shape[0]): #10000, rivit\n",
    "    transact = []\n",
    "    for j in range(1,df.shape[1]): #21, sarakkeet ei ID\n",
    "        if df.values[i,j]==1:\n",
    "            transact.append(colnames[j])\n",
    "            #print(transaction)\n",
    "    transctions.append(transact)\n",
    "transctions\n",
    "print(transctions[0:10]) #tulostetaan 10 ensimmäistä riviä\n",
    "\n"
   ]
  },
  {
   "cell_type": "code",
   "execution_count": null,
   "metadata": {},
   "outputs": [
    {
     "ename": "TypeError",
     "evalue": "apriori() got an unexpected keyword argument 'transactions'",
     "output_type": "error",
     "traceback": [
      "\u001b[1;31m---------------------------------------------------------------------------\u001b[0m",
      "\u001b[1;31mTypeError\u001b[0m                                 Traceback (most recent call last)",
      "Cell \u001b[1;32mIn[23], line 7\u001b[0m\n\u001b[0;32m      1\u001b[0m \u001b[38;5;66;03m# results = list(apriori(transactions= transactions, min_support =0.1, min_confidence = 0.1, min_lift = 1.1, min_lenght = 1, max_length = 5))\u001b[39;00m\n\u001b[0;32m      2\u001b[0m \u001b[38;5;66;03m# print(results)\u001b[39;00m\n\u001b[0;32m      3\u001b[0m \n\u001b[0;32m      4\u001b[0m \n\u001b[0;32m      5\u001b[0m \u001b[38;5;66;03m# mallinnetaan apriori-algoritmillä ja tuodaan tulokset listaaan\u001b[39;00m\n\u001b[0;32m      6\u001b[0m \u001b[38;5;66;03m# Kokeile säätää parametrejä\u001b[39;00m\n\u001b[1;32m----> 7\u001b[0m results \u001b[38;5;241m=\u001b[39m \u001b[38;5;28mlist\u001b[39m(\u001b[43mapriori\u001b[49m\u001b[43m(\u001b[49m\u001b[43mtransactions\u001b[49m\u001b[43m \u001b[49m\u001b[38;5;241;43m=\u001b[39;49m\u001b[43m \u001b[49m\u001b[43mtransctions\u001b[49m\u001b[43m,\u001b[49m\u001b[43m  \u001b[49m\u001b[43mmin_support\u001b[49m\u001b[43m \u001b[49m\u001b[38;5;241;43m=\u001b[39;49m\u001b[43m \u001b[49m\u001b[38;5;241;43m0.1\u001b[39;49m\u001b[43m,\u001b[49m\u001b[43m \u001b[49m\u001b[43mmin_confidence\u001b[49m\u001b[43m \u001b[49m\u001b[38;5;241;43m=\u001b[39;49m\u001b[43m \u001b[49m\u001b[38;5;241;43m0.1\u001b[39;49m\u001b[43m,\u001b[49m\u001b[43m \u001b[49m\u001b[43mmin_lift\u001b[49m\u001b[43m \u001b[49m\u001b[38;5;241;43m=\u001b[39;49m\u001b[43m \u001b[49m\u001b[38;5;241;43m1.1\u001b[39;49m\u001b[43m,\u001b[49m\u001b[43m \u001b[49m\u001b[43mmin_length\u001b[49m\u001b[43m \u001b[49m\u001b[38;5;241;43m=\u001b[39;49m\u001b[43m \u001b[49m\u001b[38;5;241;43m1\u001b[39;49m\u001b[43m,\u001b[49m\u001b[43m \u001b[49m\u001b[43mmax_length\u001b[49m\u001b[43m \u001b[49m\u001b[38;5;241;43m=\u001b[39;49m\u001b[43m \u001b[49m\u001b[38;5;241;43m5\u001b[39;49m\u001b[43m)\u001b[49m)\n\u001b[0;32m      8\u001b[0m \u001b[38;5;28mprint\u001b[39m(results)\n",
      "\u001b[1;31mTypeError\u001b[0m: apriori() got an unexpected keyword argument 'transactions'"
     ]
    }
   ],
   "source": [
    "# results = list(apriori(transactions= transactions, min_support =0.1, min_confidence = 0.1, min_lift = 1.1, min_lenght = 1, max_length = 5))\n",
    "# print(results)\n",
    "\n",
    "\n",
    "# mallinnetaan apriori-algoritmillä ja tuodaan tulokset listaaan\n",
    "# Kokeile säätää parametrejä\n",
    "results = list(apriori(transactions = transctions,  min_support = 0.1, min_confidence = 0.1, min_lift = 1.1, min_length = 1, max_length = 5))\n",
    "print(results)"
   ]
  },
  {
   "cell_type": "markdown",
   "metadata": {},
   "source": [
    "appriori tekee frozensettejä, joka on pythonin datatyyppi\n",
    "https://docs.python.org/3/library/stdtypes.html#frozenset"
   ]
  },
  {
   "cell_type": "code",
   "execution_count": null,
   "metadata": {},
   "outputs": [
    {
     "ename": "NameError",
     "evalue": "name 'results' is not defined",
     "output_type": "error",
     "traceback": [
      "\u001b[1;31m---------------------------------------------------------------------------\u001b[0m",
      "\u001b[1;31mNameError\u001b[0m                                 Traceback (most recent call last)",
      "Cell \u001b[1;32mIn[10], line 3\u001b[0m\n\u001b[0;32m      1\u001b[0m \u001b[38;5;66;03m# Haetaan mittarit säännöille ja lisätään ne listaan\u001b[39;00m\n\u001b[0;32m      2\u001b[0m data \u001b[38;5;241m=\u001b[39m []\n\u001b[1;32m----> 3\u001b[0m \u001b[38;5;28;01mfor\u001b[39;00m a \u001b[38;5;129;01min\u001b[39;00m \u001b[43mresults\u001b[49m: \u001b[38;5;66;03m# tulokset\u001b[39;00m\n\u001b[0;32m      4\u001b[0m     support \u001b[38;5;241m=\u001b[39m a\u001b[38;5;241m.\u001b[39msupport\n\u001b[0;32m      5\u001b[0m     items \u001b[38;5;241m=\u001b[39m a\u001b[38;5;241m.\u001b[39mitems\n",
      "\u001b[1;31mNameError\u001b[0m: name 'results' is not defined"
     ]
    }
   ],
   "source": [
    "# Haetaan mittarit säännöille ja lisätään ne listaan\n",
    "data = []\n",
    "for a in results: # tulokset\n",
    "    support = a.support\n",
    "    items = a.items\n",
    "    rules = a.ordered_statistics\n",
    "    # print(rules)\n",
    "    for b in rules: # säännöt\n",
    "        lhs = b.items_base\n",
    "        rhs = b.items_add\n",
    "        conf = b.confidence\n",
    "        lift = b.lift\n",
    "        data.append([support, conf, lhs, rhs, lift])\n",
    "        print(\"%6.4f %6.4f %s ---> %s %f\" % (support, conf, lhs, rhs, lift))\n",
    "        print(\"\") # tyhjä rivi väliin\n",
    "\n",
    "len(data) # neljä keissiä saadaan ulos\n",
    "    \n"
   ]
  }
 ],
 "metadata": {
  "kernelspec": {
   "display_name": "env",
   "language": "python",
   "name": "python3"
  },
  "language_info": {
   "codemirror_mode": {
    "name": "ipython",
    "version": 3
   },
   "file_extension": ".py",
   "mimetype": "text/x-python",
   "name": "python",
   "nbconvert_exporter": "python",
   "pygments_lexer": "ipython3",
   "version": "3.12.7"
  }
 },
 "nbformat": 4,
 "nbformat_minor": 2
}
